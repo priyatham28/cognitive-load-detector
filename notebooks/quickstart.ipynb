{
 "cells": [
  {
   "cell_type": "markdown",
   "metadata": {},
   "source": [
    "# FLZK Quickstart\n",
    "This notebook walks through the deterministic simulator shipped with the repository."
   ]
  },
  {
   "cell_type": "code",
   "execution_count": null,
   "metadata": {},
   "outputs": [],
   "source": [
    "from flzk import SimulationConfig, run_simulation, summarise_metrics\n",
    "config = SimulationConfig(rounds=5, learning_rate=0.2)\n",
    "summary = run_simulation(config, backend=\"mock\")\n",
    "summary"
   ]
  },
  {
   "cell_type": "code",
   "execution_count": null,
   "metadata": {},
   "outputs": [],
   "source": [
    "for metric in summary.metrics:\n",
    "    print(f\"Round {metric.round}: accuracy={metric.accuracy:.3f}, loss={metric.loss:.3f}\")\n",
    "aggregates = summarise_metrics(summary.metrics)\n",
    "aggregates"
   ]
  }
 ],
 "metadata": {
  "kernelspec": {
   "display_name": "Python 3",
   "language": "python",
   "name": "python3"
  },
  "language_info": {
   "name": "python",
   "version": "3.12"
  }
 },
 "nbformat": 4,
 "nbformat_minor": 5
}
